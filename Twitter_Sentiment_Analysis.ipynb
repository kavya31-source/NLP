{
 "cells": [
  {
   "cell_type": "markdown",
   "metadata": {},
   "source": [
    "### Problem Statement:"
   ]
  },
  {
   "cell_type": "markdown",
   "metadata": {},
   "source": [
    "To scrap tweets regarding various hashtags from Twitter using tweepy library and performing Sentiment Analysis of the tweets using Vader model."
   ]
  },
  {
   "cell_type": "markdown",
   "metadata": {},
   "source": [
    "### Import Required Libraries:"
   ]
  },
  {
   "cell_type": "code",
   "execution_count": 85,
   "metadata": {},
   "outputs": [],
   "source": [
    "import tweepy\n",
    "import pandas as pd\n",
    "import re\n",
    "from nltk.tokenize import word_tokenize\n",
    "from nltk.corpus import stopwords\n",
    "from nltk.sentiment.vader import SentimentIntensityAnalyzer\n",
    "import matplotlib.pyplot as plt\n",
    "import seaborn as sns\n",
    "from warnings import filterwarnings\n",
    "filterwarnings('ignore')"
   ]
  },
  {
   "cell_type": "code",
   "execution_count": 58,
   "metadata": {},
   "outputs": [],
   "source": [
    "# Obtain consumer & access keys from Twitter \n",
    "consumer_key=''\n",
    "consumer_secret=''\n",
    "\n",
    "access_token=''\n",
    "access_secret=''\n",
    "\n",
    "authenticate=tweepy.OAuthHandler(consumer_key,consumer_secret)\n",
    "authenticate.set_access_token(access_token,access_secret)\n",
    "\n",
    "#Authenticating the Twitter Api in order to extract data\n",
    "twitter_api=tweepy.API(authenticate)"
   ]
  },
  {
   "cell_type": "markdown",
   "metadata": {},
   "source": [
    "### Obtaining tweets with respect to various hashtags:"
   ]
  },
  {
   "cell_type": "code",
   "execution_count": 59,
   "metadata": {},
   "outputs": [],
   "source": [
    "# Creating a function that extracts a number of tweets as per the mentioned hashtag\n",
    "\n",
    "df_main=pd.DataFrame(columns=['created_at','source','text'])\n",
    "\n",
    "def user_name(name):\n",
    "    user_name=name.split()\n",
    "    # Ensuring that the retweets are filtered out and the tweets are in english language\n",
    "    tweets=twitter_api.search('{} -filter:retweets'.format(user_name[0]),count=100,lang='en')\n",
    "    \n",
    "    global df_main\n",
    "    \n",
    "    tweets_df=pd.DataFrame()\n",
    "    for tw in tweets:\n",
    "        if (tw.retweeted==False) and ('RT @' not in tw.text):\n",
    "\n",
    "            temp={\n",
    "                \"created_at\":tw.created_at,\n",
    "                \"text\":tw.text,\n",
    "                \"source\":tw.source\n",
    "            }\n",
    "            \n",
    "        tweets_df=tweets_df.append(temp,ignore_index=True)\n",
    "    \n",
    "    df_main=df_main.append(tweets_df)   "
   ]
  },
  {
   "cell_type": "code",
   "execution_count": 60,
   "metadata": {
    "scrolled": false
   },
   "outputs": [],
   "source": [
    "#1\n",
    "user_name(\"#Olympics\")"
   ]
  },
  {
   "cell_type": "code",
   "execution_count": 61,
   "metadata": {
    "scrolled": false
   },
   "outputs": [],
   "source": [
    "#2\n",
    "user_name(\"#covid19\")"
   ]
  },
  {
   "cell_type": "code",
   "execution_count": 62,
   "metadata": {},
   "outputs": [],
   "source": [
    "#3\n",
    "user_name(\"#NLP\")"
   ]
  },
  {
   "cell_type": "code",
   "execution_count": 63,
   "metadata": {},
   "outputs": [],
   "source": [
    "#4\n",
    "user_name(\"#Bollywood\")"
   ]
  },
  {
   "cell_type": "markdown",
   "metadata": {},
   "source": [
    "##### Extracted tweets with regards to 5 different hashtags."
   ]
  },
  {
   "cell_type": "code",
   "execution_count": 64,
   "metadata": {},
   "outputs": [
    {
     "data": {
      "text/html": [
       "<div>\n",
       "<style scoped>\n",
       "    .dataframe tbody tr th:only-of-type {\n",
       "        vertical-align: middle;\n",
       "    }\n",
       "\n",
       "    .dataframe tbody tr th {\n",
       "        vertical-align: top;\n",
       "    }\n",
       "\n",
       "    .dataframe thead th {\n",
       "        text-align: right;\n",
       "    }\n",
       "</style>\n",
       "<table border=\"1\" class=\"dataframe\">\n",
       "  <thead>\n",
       "    <tr style=\"text-align: right;\">\n",
       "      <th></th>\n",
       "      <th>created_at</th>\n",
       "      <th>source</th>\n",
       "      <th>text</th>\n",
       "    </tr>\n",
       "  </thead>\n",
       "  <tbody>\n",
       "    <tr>\n",
       "      <th>0</th>\n",
       "      <td>2021-07-26 15:16:34</td>\n",
       "      <td>Twitter Web App</td>\n",
       "      <td>Youngest Athlete Competing in the #Olympics? A...</td>\n",
       "    </tr>\n",
       "    <tr>\n",
       "      <th>1</th>\n",
       "      <td>2021-07-26 15:16:33</td>\n",
       "      <td>Twitter for iPhone</td>\n",
       "      <td>🇧🇷 Vs 🇦🇷 going on…. No no not football 😁. It’s...</td>\n",
       "    </tr>\n",
       "    <tr>\n",
       "      <th>2</th>\n",
       "      <td>2021-07-26 15:16:33</td>\n",
       "      <td>Twitter for Android</td>\n",
       "      <td>NOT THEM PLAYING GOOD GIRLS BY 5SOS💀💀\\n\\nMy 20...</td>\n",
       "    </tr>\n",
       "    <tr>\n",
       "      <th>3</th>\n",
       "      <td>2021-07-26 15:16:32</td>\n",
       "      <td>Twitter Web App</td>\n",
       "      <td>Join our free and exclusive active #Olympics d...</td>\n",
       "    </tr>\n",
       "    <tr>\n",
       "      <th>4</th>\n",
       "      <td>2021-07-26 15:16:32</td>\n",
       "      <td>Twitter for iPhone</td>\n",
       "      <td>Watching highlights from the #Olympics yesterd...</td>\n",
       "    </tr>\n",
       "  </tbody>\n",
       "</table>\n",
       "</div>"
      ],
      "text/plain": [
       "           created_at               source  \\\n",
       "0 2021-07-26 15:16:34      Twitter Web App   \n",
       "1 2021-07-26 15:16:33   Twitter for iPhone   \n",
       "2 2021-07-26 15:16:33  Twitter for Android   \n",
       "3 2021-07-26 15:16:32      Twitter Web App   \n",
       "4 2021-07-26 15:16:32   Twitter for iPhone   \n",
       "\n",
       "                                                text  \n",
       "0  Youngest Athlete Competing in the #Olympics? A...  \n",
       "1  🇧🇷 Vs 🇦🇷 going on…. No no not football 😁. It’s...  \n",
       "2  NOT THEM PLAYING GOOD GIRLS BY 5SOS💀💀\\n\\nMy 20...  \n",
       "3  Join our free and exclusive active #Olympics d...  \n",
       "4  Watching highlights from the #Olympics yesterd...  "
      ]
     },
     "execution_count": 64,
     "metadata": {},
     "output_type": "execute_result"
    }
   ],
   "source": [
    "df_main.head()"
   ]
  },
  {
   "cell_type": "code",
   "execution_count": 65,
   "metadata": {},
   "outputs": [
    {
     "data": {
      "text/plain": [
       "(400, 3)"
      ]
     },
     "execution_count": 65,
     "metadata": {},
     "output_type": "execute_result"
    }
   ],
   "source": [
    "df_main.shape"
   ]
  },
  {
   "cell_type": "markdown",
   "metadata": {},
   "source": [
    "##### The dataset consists of  400 tweets."
   ]
  },
  {
   "cell_type": "markdown",
   "metadata": {},
   "source": [
    "### Sentiment Analysis using Vader Model:"
   ]
  },
  {
   "cell_type": "code",
   "execution_count": 66,
   "metadata": {},
   "outputs": [
    {
     "data": {
      "text/plain": [
       "0    Youngest Athlete Competing in the #Olympics? A...\n",
       "1    🇧🇷 Vs 🇦🇷 going on…. No no not football 😁. It’s...\n",
       "2    NOT THEM PLAYING GOOD GIRLS BY 5SOS💀💀\\n\\nMy 20...\n",
       "3    Join our free and exclusive active #Olympics d...\n",
       "4    Watching highlights from the #Olympics yesterd...\n",
       "5    Djokovic, Osaka cruise at Olympics as women’s ...\n",
       "6    ICYMI: Here is a really cool 5-minute excerpt ...\n",
       "7    I’m convinced they just asked a couple of rand...\n",
       "8    #Tokyo2020 #Olympics #Kosovo #Serbia how’s lif...\n",
       "9    @Sportsnet\\n\\n\"Jessica Klimkait won bronze to ...\n",
       "Name: text, dtype: object"
      ]
     },
     "execution_count": 66,
     "metadata": {},
     "output_type": "execute_result"
    }
   ],
   "source": [
    "sentence=df_main['text']\n",
    "sentence[:10]"
   ]
  },
  {
   "cell_type": "code",
   "execution_count": 67,
   "metadata": {},
   "outputs": [],
   "source": [
    "#Initialising the Analyzer which calculates the compound score of each tweet \n",
    "sentiment_analyzer=SentimentIntensityAnalyzer()\n",
    "df_main['compound_score']=df_main['text'].apply(lambda a: sentiment_analyzer.polarity_scores(a)['compound'])"
   ]
  },
  {
   "cell_type": "code",
   "execution_count": 68,
   "metadata": {},
   "outputs": [
    {
     "data": {
      "text/html": [
       "<div>\n",
       "<style scoped>\n",
       "    .dataframe tbody tr th:only-of-type {\n",
       "        vertical-align: middle;\n",
       "    }\n",
       "\n",
       "    .dataframe tbody tr th {\n",
       "        vertical-align: top;\n",
       "    }\n",
       "\n",
       "    .dataframe thead th {\n",
       "        text-align: right;\n",
       "    }\n",
       "</style>\n",
       "<table border=\"1\" class=\"dataframe\">\n",
       "  <thead>\n",
       "    <tr style=\"text-align: right;\">\n",
       "      <th></th>\n",
       "      <th>created_at</th>\n",
       "      <th>source</th>\n",
       "      <th>text</th>\n",
       "      <th>compound_score</th>\n",
       "    </tr>\n",
       "  </thead>\n",
       "  <tbody>\n",
       "    <tr>\n",
       "      <th>0</th>\n",
       "      <td>2021-07-26 15:16:34</td>\n",
       "      <td>Twitter Web App</td>\n",
       "      <td>Youngest Athlete Competing in the #Olympics? A...</td>\n",
       "      <td>0.0000</td>\n",
       "    </tr>\n",
       "    <tr>\n",
       "      <th>1</th>\n",
       "      <td>2021-07-26 15:16:33</td>\n",
       "      <td>Twitter for iPhone</td>\n",
       "      <td>🇧🇷 Vs 🇦🇷 going on…. No no not football 😁. It’s...</td>\n",
       "      <td>-0.5267</td>\n",
       "    </tr>\n",
       "    <tr>\n",
       "      <th>2</th>\n",
       "      <td>2021-07-26 15:16:33</td>\n",
       "      <td>Twitter for Android</td>\n",
       "      <td>NOT THEM PLAYING GOOD GIRLS BY 5SOS💀💀\\n\\nMy 20...</td>\n",
       "      <td>0.3647</td>\n",
       "    </tr>\n",
       "    <tr>\n",
       "      <th>3</th>\n",
       "      <td>2021-07-26 15:16:32</td>\n",
       "      <td>Twitter Web App</td>\n",
       "      <td>Join our free and exclusive active #Olympics d...</td>\n",
       "      <td>0.9312</td>\n",
       "    </tr>\n",
       "    <tr>\n",
       "      <th>4</th>\n",
       "      <td>2021-07-26 15:16:32</td>\n",
       "      <td>Twitter for iPhone</td>\n",
       "      <td>Watching highlights from the #Olympics yesterd...</td>\n",
       "      <td>0.6697</td>\n",
       "    </tr>\n",
       "  </tbody>\n",
       "</table>\n",
       "</div>"
      ],
      "text/plain": [
       "           created_at               source  \\\n",
       "0 2021-07-26 15:16:34      Twitter Web App   \n",
       "1 2021-07-26 15:16:33   Twitter for iPhone   \n",
       "2 2021-07-26 15:16:33  Twitter for Android   \n",
       "3 2021-07-26 15:16:32      Twitter Web App   \n",
       "4 2021-07-26 15:16:32   Twitter for iPhone   \n",
       "\n",
       "                                                text  compound_score  \n",
       "0  Youngest Athlete Competing in the #Olympics? A...          0.0000  \n",
       "1  🇧🇷 Vs 🇦🇷 going on…. No no not football 😁. It’s...         -0.5267  \n",
       "2  NOT THEM PLAYING GOOD GIRLS BY 5SOS💀💀\\n\\nMy 20...          0.3647  \n",
       "3  Join our free and exclusive active #Olympics d...          0.9312  \n",
       "4  Watching highlights from the #Olympics yesterd...          0.6697  "
      ]
     },
     "execution_count": 68,
     "metadata": {},
     "output_type": "execute_result"
    }
   ],
   "source": [
    "df_main=df_main.reset_index().drop(columns=['index'])\n",
    "df_main.head()"
   ]
  },
  {
   "cell_type": "code",
   "execution_count": 78,
   "metadata": {},
   "outputs": [
    {
     "data": {
      "image/png": "[encoded data removed]",
      "text/plain": [
       "<Figure size 720x360 with 1 Axes>"
      ]
     },
     "metadata": {
      "needs_background": "light"
     },
     "output_type": "display_data"
    }
   ],
   "source": [
    "plt.figure(figsize=(10,5))\n",
    "df_main['compound_score'].plot(kind='hist',color='orange')\n",
    "plt.show()"
   ]
  },
  {
   "cell_type": "markdown",
   "metadata": {},
   "source": [
    "##### As per the histogram above most of the tweets have a neutral sentiment as there is a very high frequency at the compound score 0 ."
   ]
  },
  {
   "cell_type": "code",
   "execution_count": 81,
   "metadata": {},
   "outputs": [
    {
     "data": {
      "text/html": [
       "<div>\n",
       "<style scoped>\n",
       "    .dataframe tbody tr th:only-of-type {\n",
       "        vertical-align: middle;\n",
       "    }\n",
       "\n",
       "    .dataframe tbody tr th {\n",
       "        vertical-align: top;\n",
       "    }\n",
       "\n",
       "    .dataframe thead th {\n",
       "        text-align: right;\n",
       "    }\n",
       "</style>\n",
       "<table border=\"1\" class=\"dataframe\">\n",
       "  <thead>\n",
       "    <tr style=\"text-align: right;\">\n",
       "      <th></th>\n",
       "      <th>created_at</th>\n",
       "      <th>source</th>\n",
       "      <th>text</th>\n",
       "      <th>compound_score</th>\n",
       "      <th>sentiment</th>\n",
       "    </tr>\n",
       "  </thead>\n",
       "  <tbody>\n",
       "    <tr>\n",
       "      <th>0</th>\n",
       "      <td>2021-07-26 15:16:34</td>\n",
       "      <td>Twitter Web App</td>\n",
       "      <td>Youngest Athlete Competing in the #Olympics? A...</td>\n",
       "      <td>0.0000</td>\n",
       "      <td>Neutral</td>\n",
       "    </tr>\n",
       "    <tr>\n",
       "      <th>1</th>\n",
       "      <td>2021-07-26 15:16:33</td>\n",
       "      <td>Twitter for iPhone</td>\n",
       "      <td>🇧🇷 Vs 🇦🇷 going on…. No no not football 😁. It’s...</td>\n",
       "      <td>-0.5267</td>\n",
       "      <td>Negative</td>\n",
       "    </tr>\n",
       "    <tr>\n",
       "      <th>2</th>\n",
       "      <td>2021-07-26 15:16:33</td>\n",
       "      <td>Twitter for Android</td>\n",
       "      <td>NOT THEM PLAYING GOOD GIRLS BY 5SOS💀💀\\n\\nMy 20...</td>\n",
       "      <td>0.3647</td>\n",
       "      <td>Positive</td>\n",
       "    </tr>\n",
       "    <tr>\n",
       "      <th>3</th>\n",
       "      <td>2021-07-26 15:16:32</td>\n",
       "      <td>Twitter Web App</td>\n",
       "      <td>Join our free and exclusive active #Olympics d...</td>\n",
       "      <td>0.9312</td>\n",
       "      <td>Positive</td>\n",
       "    </tr>\n",
       "    <tr>\n",
       "      <th>4</th>\n",
       "      <td>2021-07-26 15:16:32</td>\n",
       "      <td>Twitter for iPhone</td>\n",
       "      <td>Watching highlights from the #Olympics yesterd...</td>\n",
       "      <td>0.6697</td>\n",
       "      <td>Positive</td>\n",
       "    </tr>\n",
       "  </tbody>\n",
       "</table>\n",
       "</div>"
      ],
      "text/plain": [
       "           created_at               source  \\\n",
       "0 2021-07-26 15:16:34      Twitter Web App   \n",
       "1 2021-07-26 15:16:33   Twitter for iPhone   \n",
       "2 2021-07-26 15:16:33  Twitter for Android   \n",
       "3 2021-07-26 15:16:32      Twitter Web App   \n",
       "4 2021-07-26 15:16:32   Twitter for iPhone   \n",
       "\n",
       "                                                text  compound_score sentiment  \n",
       "0  Youngest Athlete Competing in the #Olympics? A...          0.0000   Neutral  \n",
       "1  🇧🇷 Vs 🇦🇷 going on…. No no not football 😁. It’s...         -0.5267  Negative  \n",
       "2  NOT THEM PLAYING GOOD GIRLS BY 5SOS💀💀\\n\\nMy 20...          0.3647  Positive  \n",
       "3  Join our free and exclusive active #Olympics d...          0.9312  Positive  \n",
       "4  Watching highlights from the #Olympics yesterd...          0.6697  Positive  "
      ]
     },
     "execution_count": 81,
     "metadata": {},
     "output_type": "execute_result"
    }
   ],
   "source": [
    "# Sentiment of the tweets with respect to the compound score by setting a threshold\n",
    "\n",
    "tweet_sentiment=[]\n",
    "for i in df_main['compound_score']:\n",
    "    if i==0.0:\n",
    "        tweet_sentiment.append(\"Neutral\")\n",
    "    elif i>0.0:\n",
    "        tweet_sentiment.append(\"Positive\")\n",
    "    else:\n",
    "        tweet_sentiment.append(\"Negative\")\n",
    "df_main['sentiment']=tweet_sentiment\n",
    "df_main.head()"
   ]
  },
  {
   "cell_type": "code",
   "execution_count": 100,
   "metadata": {},
   "outputs": [
    {
     "data": {
      "image/png": "[encoded data removed]",
      "text/plain": [
       "<Figure size 720x360 with 1 Axes>"
      ]
     },
     "metadata": {
      "needs_background": "light"
     },
     "output_type": "display_data"
    }
   ],
   "source": [
    "plt.figure(figsize=(10,5))\n",
    "sns.countplot(df_main['sentiment'],palette='Set1',order=['Negative','Neutral','Positive'])\n",
    "plt.show()"
   ]
  },
  {
   "cell_type": "markdown",
   "metadata": {},
   "source": [
    "##### As per the plot above, maximum of the tweets potrrayed positive or neutral sentiment whereas the tweets that portrayed negative sentiment are less."
   ]
  },
  {
   "cell_type": "markdown",
   "metadata": {},
   "source": [
    "### Conclusion:"
   ]
  },
  {
   "cell_type": "markdown",
   "metadata": {},
   "source": [
    "- The tweets were scrapped using tweepy library considering #Olympics, #covid19, #NLP, #Bollywood hashtags\n",
    "- Using the Vader model, the compound score of each tweet was calculated considering the lexicons that each word within each tweet holds.\n",
    "- Setting a threshold the sentiment of each tweet was evaluated as Positive, Negative or Neutral sentiment."
   ]
  }
 ],
 "metadata": {
  "kernelspec": {
   "display_name": "Python 3",
   "language": "python",
   "name": "python3"
  },
  "language_info": {
   "codemirror_mode": {
    "name": "ipython",
    "version": 3
   },
   "file_extension": ".py",
   "mimetype": "text/x-python",
   "name": "python",
   "nbconvert_exporter": "python",
   "pygments_lexer": "ipython3",
   "version": "3.8.5"
  }
 },
 "nbformat": 4,
 "nbformat_minor": 4
}
